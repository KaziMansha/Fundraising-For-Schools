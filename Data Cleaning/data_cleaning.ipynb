{
 "cells": [
  {
   "cell_type": "code",
   "execution_count": 2,
   "id": "ba0392c4-254a-4281-b6c6-5aa0a81d748b",
   "metadata": {},
   "outputs": [],
   "source": [
    "#Run Imports\n",
    "\n",
    "import os\n",
    "import pandas as pd"
   ]
  },
  {
   "cell_type": "code",
   "execution_count": 3,
   "id": "36c119da-0def-4e97-86bd-5b53afe2dcd9",
   "metadata": {},
   "outputs": [
    {
     "name": "stdout",
     "output_type": "stream",
     "text": [
      "Current Working Directory: C:\\Users\\Kazi\\Documents\\Fundraising-For-Schools\n"
     ]
    }
   ],
   "source": [
    "#Testing Directory\n",
    "\n",
    "print(\"Current Working Directory:\", os.getcwd())"
   ]
  },
  {
   "cell_type": "code",
   "execution_count": 4,
   "id": "001abce7-aa79-4b38-9299-3e54d060368e",
   "metadata": {},
   "outputs": [],
   "source": [
    "#Load CSV Files\n",
    "\n",
    "report_card_df = pd.read_csv(\"Report_Card_Enrollment_2023-24_School_Year.csv\")\n",
    "states_all_extended_df = pd.read_csv(\"states_all_extended.csv\")"
   ]
  },
  {
   "cell_type": "code",
   "execution_count": 5,
   "id": "f3af3141-9223-4dfe-b487-d9bf7b6fae57",
   "metadata": {},
   "outputs": [],
   "source": [
    "#Correct Specifc Columns\n",
    "\n",
    "report_card_df[\"ESDOrganizationID\"] = report_card_df[\"ESDOrganizationID\"].astype(\"Int64\")\n",
    "report_card_df[\"DistrictCode\"] = report_card_df[\"DistrictCode\"].astype(\"Int64\")\n",
    "report_card_df[\"DistrictOrganizationId\"] = report_card_df[\"DistrictOrganizationId\"].astype(\"Int64\")\n",
    "report_card_df[\"SchoolCode\"] = report_card_df[\"SchoolCode\"].astype(\"Int64\")\n",
    "\n",
    "states_all_extended_df[\"YEAR\"] = states_all_extended_df[\"YEAR\"].astype(\"Int64\")"
   ]
  },
  {
   "cell_type": "code",
   "execution_count": 6,
   "id": "5abc9337-2cc5-4a4f-b22c-adfb7197a06d",
   "metadata": {},
   "outputs": [],
   "source": [
    "#Remove Duplicates\n",
    "\n",
    "report_card_df = report_card_df.drop_duplicates()\n",
    "states_all_extended_df = states_all_extended_df.drop_duplicates()"
   ]
  },
  {
   "cell_type": "code",
   "execution_count": 7,
   "id": "93c8390f-cb1b-49d3-8ff2-7c8f4e8d6840",
   "metadata": {},
   "outputs": [],
   "source": [
    "#Standardizing Column Names\n",
    "\n",
    "report_card_df.columns = report_card_df.columns.str.lower().str.replace(\" \", \"_\")\n",
    "states_all_extended_df.columns = states_all_extended_df.columns.str.lower().str.replace(\" \", \"_\")"
   ]
  },
  {
   "cell_type": "code",
   "execution_count": 8,
   "id": "77329db1-7bfe-4ed9-8d54-6b23859cad96",
   "metadata": {},
   "outputs": [],
   "source": [
    "#Saving the new Dataframes\n",
    "\n",
    "report_card_df.to_csv(\"Cleaned_Report_Card_Enrollment_2023-24_School_Year.csv\", index=False)\n",
    "states_all_extended_df.to_csv(\"Cleaned_states_all_extended.csv\", index=False)"
   ]
  }
 ],
 "metadata": {
  "kernelspec": {
   "display_name": "Python 3 (ipykernel)",
   "language": "python",
   "name": "python3"
  },
  "language_info": {
   "codemirror_mode": {
    "name": "ipython",
    "version": 3
   },
   "file_extension": ".py",
   "mimetype": "text/x-python",
   "name": "python",
   "nbconvert_exporter": "python",
   "pygments_lexer": "ipython3",
   "version": "3.12.3"
  }
 },
 "nbformat": 4,
 "nbformat_minor": 5
}
